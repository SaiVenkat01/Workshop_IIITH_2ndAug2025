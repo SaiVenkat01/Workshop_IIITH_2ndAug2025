{
 "cells": [
  {
   "cell_type": "markdown",
   "id": "31a50f5f",
   "metadata": {},
   "source": [
    "## Loading the environments"
   ]
  },
  {
   "cell_type": "code",
   "execution_count": 1,
   "id": "1cc4dcd8",
   "metadata": {},
   "outputs": [
    {
     "data": {
      "text/plain": [
       "True"
      ]
     },
     "execution_count": 1,
     "metadata": {},
     "output_type": "execute_result"
    }
   ],
   "source": [
    "import os\n",
    "from dotenv import load_dotenv\n",
    "load_dotenv()"
   ]
  },
  {
   "cell_type": "markdown",
   "id": "b57da6a9",
   "metadata": {},
   "source": [
    "# Importing packages"
   ]
  },
  {
   "cell_type": "code",
   "execution_count": 2,
   "id": "2d32d1fb",
   "metadata": {},
   "outputs": [],
   "source": [
    "from dotenv import load_dotenv\n",
    "from langchain.prompts import ChatPromptTemplate\n",
    "from langchain_openai import ChatOpenAI\n",
    "from IPython.display import Image, display\n",
    "from langgraph.graph import StateGraph , START , END , MessageGraph \n",
    "from langchain_core.messages import HumanMessage , AIMessage , SystemMessage\n",
    "from typing import TypedDict\n"
   ]
  },
  {
   "cell_type": "code",
   "execution_count": 3,
   "id": "d205aa53",
   "metadata": {},
   "outputs": [],
   "source": [
    "model = ChatOpenAI(model=\"gpt-4.1-mini\", temperature=0)"
   ]
  },
  {
   "cell_type": "code",
   "execution_count": 4,
   "id": "1357b919",
   "metadata": {},
   "outputs": [
    {
     "data": {
      "text/plain": [
       "AIMessage(content=\"Hello! I'm doing well, thank you. How can I assist you today?\", additional_kwargs={'refusal': None}, response_metadata={'token_usage': {'completion_tokens': 16, 'prompt_tokens': 13, 'total_tokens': 29, 'completion_tokens_details': {'accepted_prediction_tokens': 0, 'audio_tokens': 0, 'reasoning_tokens': 0, 'rejected_prediction_tokens': 0}, 'prompt_tokens_details': {'audio_tokens': 0, 'cached_tokens': 0}}, 'model_name': 'gpt-4.1-mini-2025-04-14', 'system_fingerprint': 'fp_6f2eabb9a5', 'id': 'chatcmpl-ByqcHRj2hMVHS6CWScOM8hgKK5wXQ', 'service_tier': 'default', 'finish_reason': 'stop', 'logprobs': None}, id='run--09837e53-4871-4d92-b4cc-c58b616a52a5-0', usage_metadata={'input_tokens': 13, 'output_tokens': 16, 'total_tokens': 29, 'input_token_details': {'audio': 0, 'cache_read': 0}, 'output_token_details': {'audio': 0, 'reasoning': 0}})"
      ]
     },
     "execution_count": 4,
     "metadata": {},
     "output_type": "execute_result"
    }
   ],
   "source": [
    "model.invoke(\"Hello, how are you?\")"
   ]
  },
  {
   "cell_type": "markdown",
   "id": "0b587ddd",
   "metadata": {},
   "source": [
    "## Some utility functions"
   ]
  },
  {
   "cell_type": "code",
   "execution_count": 13,
   "id": "76c9499b",
   "metadata": {},
   "outputs": [],
   "source": [
    "\n",
    "# to display the graph\n",
    "def display_graph(app):\n",
    "    # this function will display the graph of the app\n",
    "    try:\n",
    "        display(Image(app.get_graph().draw_mermaid_png(max_retries=5, retry_delay=2.0)))\n",
    "    except Exception as e:\n",
    "        # This requires some extra dependencies and is optional\n",
    "        print(e)\n",
    "\n",
    "\n",
    "\n",
    "# To stream the output of the app\n",
    "def stream_output(app, input):\n",
    "    for output in app.stream(input):\n",
    "        for key,value in output.items():\n",
    "            print(f\"here is output from {key}\")\n",
    "            print(\"_______\")\n",
    "            print(value)\n",
    "            print(\"\\n\")"
   ]
  },
  {
   "cell_type": "code",
   "execution_count": 6,
   "id": "016395b6",
   "metadata": {},
   "outputs": [],
   "source": [
    "# 1. Define the state\n",
    "class State(TypedDict):\n",
    "    # This is a dictionary that will store the state of the workflow\n",
    "    message: str"
   ]
  },
  {
   "cell_type": "markdown",
   "id": "39fc5433",
   "metadata": {},
   "source": [
    "## Level 1: Simple Workflow in a graph"
   ]
  },
  {
   "cell_type": "code",
   "execution_count": 7,
   "id": "922a3676",
   "metadata": {},
   "outputs": [],
   "source": [
    "def greet_user(state):\n",
    "    '''\n",
    "    This function will greet the user with a message\n",
    "    '''\n",
    "    # Use the 'message' from the state dictionary\n",
    "    user_message = state.get(\"message\", \"\")\n",
    "    return {\"message\": f\"Hello {user_message}!\"}\n",
    "\n",
    "\n",
    "def convert_to_uppercase(state):\n",
    "    '''\n",
    "    This function will convert the input word in the state to uppercase\n",
    "    '''\n",
    "    state[\"message\"] = state[\"message\"].upper()\n",
    "    return state"
   ]
  },
  {
   "cell_type": "code",
   "execution_count": 8,
   "id": "28e1e019",
   "metadata": {},
   "outputs": [],
   "source": [
    "#define the workflow\n",
    "\n",
    "workflow = StateGraph(State)\n",
    "workflow.add_node(\"User_greetings\" , greet_user)\n",
    "workflow.add_node(\"Uppercase_converter\" , convert_to_uppercase)\n",
    "workflow.add_edge(START , \"User_greetings\")\n",
    "workflow.add_edge(\"User_greetings\" , \"Uppercase_converter\")\n",
    "workflow.add_edge(\"Uppercase_converter\" , END)\n",
    "app = workflow.compile()\n",
    "\n",
    "\n"
   ]
  },
  {
   "cell_type": "code",
   "execution_count": 9,
   "id": "2c7c64dc",
   "metadata": {},
   "outputs": [],
   "source": [
    "result = app.invoke({\"message\": \"Suman\"})"
   ]
  },
  {
   "cell_type": "code",
   "execution_count": 10,
   "id": "303726c7",
   "metadata": {},
   "outputs": [
    {
     "name": "stdout",
     "output_type": "stream",
     "text": [
      "{'message': 'HELLO SUMAN!'}\n"
     ]
    }
   ],
   "source": [
    "print(result)"
   ]
  },
  {
   "cell_type": "code",
   "execution_count": 11,
   "id": "34e40eaa",
   "metadata": {},
   "outputs": [
    {
     "name": "stdout",
     "output_type": "stream",
     "text": [
      "here is output from User_greetings\n",
      "_______\n",
      "{'message': 'Hello Suman!'}\n",
      "\n",
      "\n",
      "here is output from Uppercase_converter\n",
      "_______\n",
      "{'message': 'HELLO SUMAN!'}\n",
      "\n",
      "\n"
     ]
    }
   ],
   "source": [
    "stream_output(app, {\"message\": \"Suman\"})"
   ]
  },
  {
   "cell_type": "code",
   "execution_count": null,
   "id": "1109fa2a",
   "metadata": {},
   "outputs": [],
   "source": [
    "#display_graph(app)"
   ]
  },
  {
   "cell_type": "markdown",
   "id": "f4a42cda",
   "metadata": {},
   "source": [
    "## Level 2 : Using an LLM and a function"
   ]
  },
  {
   "cell_type": "code",
   "execution_count": 15,
   "id": "09dd6a07",
   "metadata": {},
   "outputs": [],
   "source": [
    "def get_response_from_llm(state):\n",
    "    \"\"\"\n",
    "    This function will get the response from the LLM\n",
    "    \n",
    "    \"\"\"\n",
    "\n",
    "    state[\"message\"]  = state.get(\"message\", \"\")\n",
    "\n",
    "    response = model.invoke(state[\"message\"]).content\n",
    "\n",
    "    return {\"message\": response}\n",
    "\n",
    "\n",
    "def convert_to_uppercase(state):\n",
    "    \"\"\"\n",
    "    This function will convert the message to uppercase\n",
    "    \"\"\"\n",
    "    response_from_llm = state[\"message\"]\n",
    "    state[\"message\"] = response_from_llm.upper()\n",
    "    \n",
    "    return state\n",
    "\n"
   ]
  },
  {
   "cell_type": "code",
   "execution_count": 16,
   "id": "2d3bc142",
   "metadata": {},
   "outputs": [],
   "source": [
    "# define the workflow\n",
    "\n",
    "workflow = StateGraph(State)\n",
    "workflow.add_node(\"LLM_response\" , get_response_from_llm)\n",
    "workflow.add_node(\"Uppercase_converter\" , convert_to_uppercase)\n",
    "workflow.add_edge(START , \"LLM_response\")\n",
    "workflow.add_edge(\"LLM_response\" , \"Uppercase_converter\")\n",
    "workflow.add_edge(\"Uppercase_converter\" , END)\n",
    "app = workflow.compile()\n"
   ]
  },
  {
   "cell_type": "code",
   "execution_count": 17,
   "id": "5c15bf31",
   "metadata": {},
   "outputs": [
    {
     "data": {
      "text/plain": [
       "{'message': \"HELLO! I'M DOING WELL, THANK YOU. HOW CAN I ASSIST YOU TODAY?\"}"
      ]
     },
     "execution_count": 17,
     "metadata": {},
     "output_type": "execute_result"
    }
   ],
   "source": [
    "app.invoke({\"message\": \"Hello, how are you?\"})"
   ]
  },
  {
   "cell_type": "code",
   "execution_count": 18,
   "id": "836d8d4b",
   "metadata": {},
   "outputs": [
    {
     "name": "stdout",
     "output_type": "stream",
     "text": [
      "here is output from LLM_response\n",
      "_______\n",
      "{'message': \"Hello! I'm doing well, thank you. How can I assist you today?\"}\n",
      "\n",
      "\n",
      "here is output from Uppercase_converter\n",
      "_______\n",
      "{'message': \"HELLO! I'M DOING WELL, THANK YOU. HOW CAN I ASSIST YOU TODAY?\"}\n",
      "\n",
      "\n"
     ]
    }
   ],
   "source": [
    "stream_output(app, {\"message\": \"Hello, how are you?\"})"
   ]
  },
  {
   "cell_type": "code",
   "execution_count": 19,
   "id": "6217253f",
   "metadata": {},
   "outputs": [],
   "source": [
    "#display_graph(app)"
   ]
  },
  {
   "cell_type": "markdown",
   "id": "3a8a56f4",
   "metadata": {},
   "source": [
    "## Level 3: real world use case"
   ]
  },
  {
   "cell_type": "code",
   "execution_count": 30,
   "id": "c05c6370",
   "metadata": {},
   "outputs": [],
   "source": [
    "def classify_sentiment(state):\n",
    "    \"\"\"\n",
    "    This function will classify the sentiment of the message\n",
    "    \"\"\"\n",
    "    # Ensure state[\"message\"] is a list to store message history\n",
    "    if not isinstance(state.get(\"message\", None), list):\n",
    "        state[\"message\"] = [state.get(\"message\", \"\")]\n",
    "    message = f\"Classify the sentiment of the following message into either positive, negative or neutral: {state['message'][-1]}\"\n",
    "    response = model.invoke(message).content\n",
    "    state[\"message\"].append(response)\n",
    "    return {\"message\": state[\"message\"]}\n",
    "\n",
    "\n",
    "def get_total_word_count(state):\n",
    "    \"\"\"\n",
    "    This function will get the total word count of the message\n",
    "    \"\"\"\n",
    "    # Get the last message (assumed to be the sentiment classification)\n",
    "    last_message = state[\"message\"][-1]\n",
    "    word_count = len(last_message.split())\n",
    "    state[\"message\"].append(f\"Total word count: {word_count}\")\n",
    "    return {\"message\": state[\"message\"]}"
   ]
  },
  {
   "cell_type": "code",
   "execution_count": 31,
   "id": "9d022433",
   "metadata": {},
   "outputs": [],
   "source": [
    "workflow = StateGraph(State)\n",
    "workflow.add_node(\"Sentiment_classifier\" , classify_sentiment)\n",
    "workflow.add_node(\"Total_word_counter\" , get_total_word_count)\n",
    "workflow.add_edge(START , \"Sentiment_classifier\")\n",
    "workflow.add_edge(\"Sentiment_classifier\" , \"Total_word_counter\")\n",
    "workflow.add_edge(\"Total_word_counter\" , END)\n",
    "app = workflow.compile()"
   ]
  },
  {
   "cell_type": "code",
   "execution_count": 32,
   "id": "a6b01feb",
   "metadata": {},
   "outputs": [
    {
     "data": {
      "text/plain": [
       "{'message': ['I am happy with the quality of the product and the service',\n",
       "  'The sentiment of the message is positive.',\n",
       "  'Total word count: 7']}"
      ]
     },
     "execution_count": 32,
     "metadata": {},
     "output_type": "execute_result"
    }
   ],
   "source": [
    "app.invoke({\"message\": \"I am happy with the quality of the product and the service\"})"
   ]
  },
  {
   "cell_type": "code",
   "execution_count": null,
   "id": "ee4f618a",
   "metadata": {},
   "outputs": [],
   "source": []
  },
  {
   "cell_type": "code",
   "execution_count": null,
   "id": "5dacaba2",
   "metadata": {},
   "outputs": [],
   "source": []
  },
  {
   "cell_type": "code",
   "execution_count": null,
   "id": "d749429b",
   "metadata": {},
   "outputs": [],
   "source": []
  },
  {
   "cell_type": "code",
   "execution_count": null,
   "id": "fe9d60cb",
   "metadata": {},
   "outputs": [],
   "source": []
  },
  {
   "cell_type": "code",
   "execution_count": null,
   "id": "b0ad5f52",
   "metadata": {},
   "outputs": [],
   "source": []
  },
  {
   "cell_type": "code",
   "execution_count": null,
   "id": "1fe21468",
   "metadata": {},
   "outputs": [],
   "source": []
  },
  {
   "cell_type": "code",
   "execution_count": null,
   "id": "50f96bb2",
   "metadata": {},
   "outputs": [],
   "source": []
  },
  {
   "cell_type": "code",
   "execution_count": null,
   "id": "1aa5566b",
   "metadata": {},
   "outputs": [],
   "source": []
  },
  {
   "cell_type": "code",
   "execution_count": null,
   "id": "872b81d7",
   "metadata": {},
   "outputs": [],
   "source": []
  }
 ],
 "metadata": {
  "kernelspec": {
   "display_name": ".venv",
   "language": "python",
   "name": "python3"
  },
  "language_info": {
   "codemirror_mode": {
    "name": "ipython",
    "version": 3
   },
   "file_extension": ".py",
   "mimetype": "text/x-python",
   "name": "python",
   "nbconvert_exporter": "python",
   "pygments_lexer": "ipython3",
   "version": "3.13.3"
  }
 },
 "nbformat": 4,
 "nbformat_minor": 5
}
