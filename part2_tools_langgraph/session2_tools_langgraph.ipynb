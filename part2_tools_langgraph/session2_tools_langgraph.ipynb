{
 "cells": [
  {
   "cell_type": "markdown",
   "id": "47e109e9",
   "metadata": {},
   "source": [
    "## Loading the environments"
   ]
  },
  {
   "cell_type": "code",
   "execution_count": 1,
   "id": "38a9f50a",
   "metadata": {},
   "outputs": [
    {
     "data": {
      "text/plain": [
       "True"
      ]
     },
     "execution_count": 1,
     "metadata": {},
     "output_type": "execute_result"
    }
   ],
   "source": [
    "import os\n",
    "from dotenv import load_dotenv\n",
    "load_dotenv()"
   ]
  },
  {
   "cell_type": "markdown",
   "id": "9af5fd44",
   "metadata": {},
   "source": [
    "## Importing the packages"
   ]
  },
  {
   "cell_type": "code",
   "execution_count": 2,
   "id": "ba934554",
   "metadata": {},
   "outputs": [],
   "source": [
    "from dotenv import load_dotenv\n",
    "from langchain.prompts import ChatPromptTemplate\n",
    "from langchain_openai import ChatOpenAI\n",
    "from IPython.display import Image, display\n",
    "from langgraph.graph import StateGraph , START , END , MessageGraph \n",
    "from langchain_core.messages import HumanMessage , AIMessage , SystemMessage\n",
    "from typing import TypedDict\n",
    "from typing import Annotated\n",
    "from langgraph.graph.message import add_messages\n",
    "\n",
    "import datetime"
   ]
  },
  {
   "cell_type": "code",
   "execution_count": 3,
   "id": "53f584a4",
   "metadata": {},
   "outputs": [],
   "source": [
    "model = ChatOpenAI(model=\"gpt-4.1-mini\", temperature=0)"
   ]
  },
  {
   "cell_type": "markdown",
   "id": "df486102",
   "metadata": {},
   "source": [
    "## Some utility functions"
   ]
  },
  {
   "cell_type": "code",
   "execution_count": 4,
   "id": "836b6c01",
   "metadata": {},
   "outputs": [],
   "source": [
    "# to display the graph\n",
    "def display_graph(app):\n",
    "    # this function will display the graph of the app\n",
    "    try:\n",
    "        display(Image(app.get_graph().draw_mermaid_png()))\n",
    "    except Exception as e:\n",
    "        # This requires some extra dependencies and is optional\n",
    "        print(e)\n",
    "\n",
    "\n",
    "\n",
    "# To stream the output of the app\n",
    "def stream_output(app, input):\n",
    "    for output in app.stream(input):\n",
    "        for key,value in output.items():\n",
    "            print(f\"here is output from {key}\")\n",
    "            print(\"_______\")\n",
    "            print(value)\n",
    "            print(\"\\n\")"
   ]
  },
  {
   "cell_type": "code",
   "execution_count": 5,
   "id": "bd4be307",
   "metadata": {},
   "outputs": [],
   "source": [
    "#defining the state\n",
    "class State(TypedDict):\n",
    "    messages:Annotated[list,add_messages]"
   ]
  },
  {
   "cell_type": "code",
   "execution_count": 6,
   "id": "81abfb71",
   "metadata": {},
   "outputs": [
    {
     "data": {
      "text/plain": [
       "AIMessage(content=\"I don't have real-time access to current weather data. To get the latest weather information for Hyderabad, you can check a reliable weather website or app like Weather.com, AccuWeather, or use a voice assistant on your device.\", additional_kwargs={'refusal': None}, response_metadata={'token_usage': {'completion_tokens': 46, 'prompt_tokens': 15, 'total_tokens': 61, 'completion_tokens_details': {'accepted_prediction_tokens': 0, 'audio_tokens': 0, 'reasoning_tokens': 0, 'rejected_prediction_tokens': 0}, 'prompt_tokens_details': {'audio_tokens': 0, 'cached_tokens': 0}}, 'model_name': 'gpt-4.1-mini-2025-04-14', 'system_fingerprint': 'fp_6f2eabb9a5', 'id': 'chatcmpl-Bz3T7x1qmcfIxXqlWRMxwycqEj2eV', 'service_tier': 'default', 'finish_reason': 'stop', 'logprobs': None}, id='run--048bad31-b74c-4075-b09c-eed8cad669ca-0', usage_metadata={'input_tokens': 15, 'output_tokens': 46, 'total_tokens': 61, 'input_token_details': {'audio': 0, 'cache_read': 0}, 'output_token_details': {'audio': 0, 'reasoning': 0}})"
      ]
     },
     "execution_count": 6,
     "metadata": {},
     "output_type": "execute_result"
    }
   ],
   "source": [
    "model.invoke(\"What is the weather in hyderabad?\")"
   ]
  },
  {
   "cell_type": "markdown",
   "id": "89f6a860",
   "metadata": {},
   "source": [
    "## Part 1: Access to tools"
   ]
  },
  {
   "cell_type": "code",
   "execution_count": 7,
   "id": "931877b8",
   "metadata": {},
   "outputs": [
    {
     "data": {
      "text/plain": [
       "{'query': 'What is langgraph',\n",
       " 'follow_up_questions': None,\n",
       " 'answer': None,\n",
       " 'images': [],\n",
       " 'results': [{'url': 'https://www.datacamp.com/tutorial/langgraph-tutorial',\n",
       "   'title': 'LangGraph Tutorial: What Is LangGraph and How to Use It?',\n",
       "   'content': 'LangGraph is a library within the LangChain ecosystem that provides a framework for defining, coordinating, and executing multiple LLM agents (or chains) in a structured and efficient manner. By managing the flow of data and the sequence of operations, LangGraph allows developers to focus on the high-level logic of their applications rather than the intricacies of agent coordination. Whether you need a chatbot that can handle various types of user requests or a multi-agent system that performs complex tasks, LangGraph provides the tools to build exactly what you need. LangGraph significantly simplifies the development of complex LLM applications by providing a structured framework for managing state and coordinating agent interactions.',\n",
       "   'score': 0.9502313,\n",
       "   'raw_content': None},\n",
       "  {'url': 'https://www.ibm.com/think/topics/langgraph',\n",
       "   'title': 'What is LangGraph? - IBM',\n",
       "   'content': 'LangGraph, created by LangChain, is an open source AI agent framework designed to build, deploy and manage complex generative AI agent workflows. At its core, LangGraph uses the power of graph-based architectures to model and manage the intricate relationships between various components of an AI agent workflow. LangGraph illuminates the processes within an AI workflow, allowing full transparency of the agent’s state. By combining these technologies with a set of APIs and tools, LangGraph provides users with a versatile platform for developing AI solutions and workflows including chatbots, state graphs and other agent-based systems. Nodes: In LangGraph, nodes represent individual components or agents within an AI workflow. LangGraph uses enhanced decision-making by modeling complex relationships between nodes, which means it uses AI agents to analyze their past actions and feedback.',\n",
       "   'score': 0.94401723,\n",
       "   'raw_content': None}],\n",
       " 'response_time': 1.13}"
      ]
     },
     "execution_count": 7,
     "metadata": {},
     "output_type": "execute_result"
    }
   ],
   "source": [
    "# tavily seaarch tool ---> for api go to https://app.tavily.com/home and generate an api key\n",
    "from langchain_tavily import TavilySearch\n",
    "\n",
    "search_tool=TavilySearch(max_results=2)\n",
    "search_tool.invoke(\"What is langgraph\")\n"
   ]
  },
  {
   "cell_type": "code",
   "execution_count": 8,
   "id": "eab20b7b",
   "metadata": {},
   "outputs": [
    {
     "data": {
      "text/plain": [
       "{'query': 'What is the weather in hyderabad?',\n",
       " 'follow_up_questions': None,\n",
       " 'answer': None,\n",
       " 'images': [],\n",
       " 'results': [{'title': 'Weather in Hyderabad',\n",
       "   'url': 'https://www.weatherapi.com/',\n",
       "   'content': \"{'location': {'name': 'Hyderabad', 'region': 'Telangana', 'country': 'India', 'lat': 17.3753, 'lon': 78.4744, 'tz_id': 'Asia/Kolkata', 'localtime_epoch': 1753888278, 'localtime': '2025-07-30 20:41'}, 'current': {'last_updated_epoch': 1753887600, 'last_updated': '2025-07-30 20:30', 'temp_c': 24.4, 'temp_f': 75.9, 'is_day': 0, 'condition': {'text': 'Partly cloudy', 'icon': '//cdn.weatherapi.com/weather/64x64/night/116.png', 'code': 1003}, 'wind_mph': 11.9, 'wind_kph': 19.1, 'wind_degree': 269, 'wind_dir': 'W', 'pressure_mb': 1008.0, 'pressure_in': 29.77, 'precip_mm': 0.02, 'precip_in': 0.0, 'humidity': 89, 'cloud': 75, 'feelslike_c': 26.1, 'feelslike_f': 79.0, 'windchill_c': 24.8, 'windchill_f': 76.6, 'heatindex_c': 26.5, 'heatindex_f': 79.6, 'dewpoint_c': 19.6, 'dewpoint_f': 67.3, 'vis_km': 4.0, 'vis_miles': 2.0, 'uv': 0.0, 'gust_mph': 17.0, 'gust_kph': 27.3}}\",\n",
       "   'score': 0.9595097,\n",
       "   'raw_content': None},\n",
       "  {'url': 'https://timesofindia.indiatimes.com/weather/hyderabad-weather-forecast-today/500002',\n",
       "   'title': 'Hyderabad Weather Forecast 30 Jul 2025 - Times of India',\n",
       "   'content': \"Today's Weather in Hyderabad: In Hyderabad today, the weather is expected to be Mostly Cloudy with a maximum temperature of 29°C and a minimum of 24°C.\",\n",
       "   'score': 0.9505628,\n",
       "   'raw_content': None}],\n",
       " 'response_time': 1.15}"
      ]
     },
     "execution_count": 8,
     "metadata": {},
     "output_type": "execute_result"
    }
   ],
   "source": [
    "search_tool.invoke(\"What is the weather in hyderabad?\")"
   ]
  },
  {
   "cell_type": "markdown",
   "id": "58a4e018",
   "metadata": {},
   "source": [
    "## lets create 6 tools"
   ]
  },
  {
   "cell_type": "code",
   "execution_count": 9,
   "id": "9a8f613a",
   "metadata": {},
   "outputs": [],
   "source": [
    "\n",
    "#defining search tool\n",
    "search_tool = TavilySearch(max_results=2)\n",
    "\n",
    "\n",
    "def search_web(user_question):\n",
    "    \"\"\"\n",
    "    This function will search a web search for the user question\n",
    "    Args:\n",
    "        user_question (str): The question to search\n",
    "    Returns:\n",
    "        search_results (list): The search results\n",
    "    \"\"\"\n",
    "    search_results = search_tool.invoke(user_question)[\"results\"]\n",
    "    return search_results\n",
    "\n",
    "#mathematical tool - addition\n",
    "def add_numbers(a,b):\n",
    "    \"\"\"\n",
    "    This function will add two numbers\n",
    "    Args:\n",
    "        a (int): The first number\n",
    "        b (int): The second number\n",
    "    Returns:\n",
    "        result (int): The sum of the two numbers\n",
    "    \"\"\"\n",
    "    return a+b\n",
    "\n",
    "#mathematical tool - subtraction\n",
    "def subtract_numbers(a,b):\n",
    "    \"\"\"\n",
    "    This function will subtract two numbers\n",
    "    Args:\n",
    "        a (int): The first number\n",
    "        b (int): The second number\n",
    "    Returns:\n",
    "        result (int): The difference of the two numbers\n",
    "    \"\"\"\n",
    "    return a-b\n",
    "\n",
    "#mathematical tool - multiplication\n",
    "def multiply_numbers(a,b):\n",
    "    \"\"\"\n",
    "    This function will multiply two numbers\n",
    "    Args:\n",
    "        a (int): The first number\n",
    "        b (int): The second number\n",
    "    Returns:\n",
    "        result (int): The product of the two numbers\n",
    "    \"\"\"\n",
    "    return a*b\n",
    "\n",
    "#mathematical tool - division\n",
    "def divide_numbers(a,b):\n",
    "    \"\"\"\n",
    "    This function will divide two numbers\n",
    "    Args:\n",
    "        a (int): The first number\n",
    "        b (int): The second number\n",
    "    Returns:\n",
    "        result (int): The quotient of the two numbers\n",
    "    \"\"\"\n",
    "    return a/b\n",
    "\n",
    "\n",
    "# tooll to get the current time\n",
    "def get_current_time():\n",
    "    \"\"\"\n",
    "    This function will get the current time\n",
    "    Returns:\n",
    "        result (str): The current time\n",
    "    \"\"\"\n",
    "    return datetime.now().strftime(\"%H:%M:%S\")\n"
   ]
  },
  {
   "cell_type": "code",
   "execution_count": 14,
   "id": "02680dd5",
   "metadata": {},
   "outputs": [],
   "source": [
    "tools_list = [search_web, add_numbers, subtract_numbers, multiply_numbers, divide_numbers, get_current_time]"
   ]
  },
  {
   "cell_type": "code",
   "execution_count": 15,
   "id": "200101e7",
   "metadata": {},
   "outputs": [],
   "source": [
    "#bind the tools with llm\n",
    "llm_with_tool = model.bind_tools(tools_list)"
   ]
  },
  {
   "cell_type": "code",
   "execution_count": 12,
   "id": "8b03131d",
   "metadata": {},
   "outputs": [
    {
     "data": {
      "text/plain": [
       "RunnableBinding(bound=ChatOpenAI(client=<openai.resources.chat.completions.completions.Completions object at 0x118892660>, async_client=<openai.resources.chat.completions.completions.AsyncCompletions object at 0x1188930e0>, root_client=<openai.OpenAI object at 0x11871f770>, root_async_client=<openai.AsyncOpenAI object at 0x118892e40>, model_name='gpt-4.1-mini', temperature=0.0, model_kwargs={}, openai_api_key=SecretStr('**********')), kwargs={'tools': [{'type': 'function', 'function': {'name': 'search_web', 'description': 'This function will search a web search for the user question\\nArgs:\\n    user_question (str): The question to search\\nReturns:\\n    search_results (list): The search results', 'parameters': {'properties': {'user_question': {}}, 'required': ['user_question'], 'type': 'object'}}}, {'type': 'function', 'function': {'name': 'add_numbers', 'description': 'This function will add two numbers\\nArgs:\\n    a (int): The first number\\n    b (int): The second number\\nReturns:\\n    result (int): The sum of the two numbers', 'parameters': {'properties': {'a': {}, 'b': {}}, 'required': ['a', 'b'], 'type': 'object'}}}, {'type': 'function', 'function': {'name': 'subtract_numbers', 'description': 'This function will subtract two numbers\\nArgs:\\n    a (int): The first number\\n    b (int): The second number\\nReturns:\\n    result (int): The difference of the two numbers', 'parameters': {'properties': {'a': {}, 'b': {}}, 'required': ['a', 'b'], 'type': 'object'}}}, {'type': 'function', 'function': {'name': 'multiply_numbers', 'description': 'This function will multiply two numbers\\nArgs:\\n    a (int): The first number\\n    b (int): The second number\\nReturns:\\n    result (int): The product of the two numbers', 'parameters': {'properties': {'a': {}, 'b': {}}, 'required': ['a', 'b'], 'type': 'object'}}}, {'type': 'function', 'function': {'name': 'divide_numbers', 'description': 'This function will divide two numbers\\nArgs:\\n    a (int): The first number\\n    b (int): The second number\\nReturns:\\n    result (int): The quotient of the two numbers', 'parameters': {'properties': {'a': {}, 'b': {}}, 'required': ['a', 'b'], 'type': 'object'}}}, {'type': 'function', 'function': {'name': 'get_current_time', 'description': 'This function will get the current time\\nReturns:\\n    result (str): The current time', 'parameters': {'properties': {}, 'type': 'object'}}}]}, config={}, config_factories=[])"
      ]
     },
     "execution_count": 12,
     "metadata": {},
     "output_type": "execute_result"
    }
   ],
   "source": [
    "llm_with_tool"
   ]
  },
  {
   "cell_type": "code",
   "execution_count": 16,
   "id": "309a809f",
   "metadata": {},
   "outputs": [],
   "source": [
    "#defining the nodes \n",
    "def tool_calling_llm(state:State):\n",
    "    return {\"messages\": [llm_with_tool.invoke(state[\"messages\"])]}\n",
    "\n"
   ]
  },
  {
   "cell_type": "code",
   "execution_count": null,
   "id": "c70ab36c",
   "metadata": {},
   "outputs": [],
   "source": [
    "# define the workflow\n",
    "from langgraph.graph import StateGraph,START,END\n",
    "from langgraph.prebuilt import ToolNode\n",
    "from langgraph.prebuilt import tools_condition\n",
    "\n",
    "workflow = StateGraph(State)\n",
    "\n",
    "workflow.add_node(\"llm_with_tools\", tool_calling_llm)\n",
    "workflow.add_node(\"tools\" , ToolNode(tools_list))\n",
    "\n",
    "workflow.add_edge(START, \"llm_with_tools\")\n",
    "workflow.add_conditional_edges(\n",
    "    \"llm_with_tools\",\n",
    "    tools_condition\n",
    ")\n",
    "workflow.add_edge(\"tools\", END)\n",
    "\n",
    "app = workflow.compile()"
   ]
  },
  {
   "cell_type": "code",
   "execution_count": 18,
   "id": "b41301ce",
   "metadata": {},
   "outputs": [
    {
     "data": {
      "image/png": "[encoded data removed]",
      "text/plain": [
       "<IPython.core.display.Image object>"
      ]
     },
     "metadata": {},
     "output_type": "display_data"
    }
   ],
   "source": [
    "display_graph(app)"
   ]
  },
  {
   "cell_type": "code",
   "execution_count": 20,
   "id": "c4f40ded",
   "metadata": {},
   "outputs": [],
   "source": [
    "response = app.invoke({\"messages\": \"What is the current tariff put by USA on india?\"})"
   ]
  },
  {
   "cell_type": "code",
   "execution_count": 21,
   "id": "dd4e04cc",
   "metadata": {},
   "outputs": [
    {
     "data": {
      "text/plain": [
       "{'messages': [HumanMessage(content='What is the current tariff put by USA on india?', additional_kwargs={}, response_metadata={}, id='e3dd68a0-7c09-47a1-8649-89a892329955'),\n",
       "  AIMessage(content='', additional_kwargs={'tool_calls': [{'id': 'call_inQY3g9wruLB6ZEPPR6rwitm', 'function': {'arguments': '{\"user_question\":\"current tariff put by USA on India\"}', 'name': 'search_web'}, 'type': 'function'}], 'refusal': None}, response_metadata={'token_usage': {'completion_tokens': 21, 'prompt_tokens': 350, 'total_tokens': 371, 'completion_tokens_details': {'accepted_prediction_tokens': 0, 'audio_tokens': 0, 'reasoning_tokens': 0, 'rejected_prediction_tokens': 0}, 'prompt_tokens_details': {'audio_tokens': 0, 'cached_tokens': 0}}, 'model_name': 'gpt-4.1-mini-2025-04-14', 'system_fingerprint': 'fp_6f2eabb9a5', 'id': 'chatcmpl-Bz3WJ8RmQWGO9G1Dnz9N7ipmY8rgA', 'service_tier': 'default', 'finish_reason': 'tool_calls', 'logprobs': None}, id='run--a3dfca4a-8c4c-47aa-9f60-df4bdf8bfb27-0', tool_calls=[{'name': 'search_web', 'args': {'user_question': 'current tariff put by USA on India'}, 'id': 'call_inQY3g9wruLB6ZEPPR6rwitm', 'type': 'tool_call'}], usage_metadata={'input_tokens': 350, 'output_tokens': 21, 'total_tokens': 371, 'input_token_details': {'audio': 0, 'cache_read': 0}, 'output_token_details': {'audio': 0, 'reasoning': 0}}),\n",
       "  ToolMessage(content='[{\"url\": \"https://www.theguardian.com/us-news/2025/jul/30/trump-imposes-tariff-on-india-plus-penalty-over-ties-to-russia\", \"title\": \"Trump imposes 25% tariff on India plus \\'penalty\\' over ties to Russia\", \"content\": \"Donald Trump has announced the US will impose a 25% tariff on goods from India plus an extra “penalty” for the country buying arms and energy\", \"score\": 0.73914057, \"raw_content\": null}, {\"url\": \"https://apnews.com/article/trump-tariffs-russia-india-9e388a55583e7007149819c52f0fd71b\", \"title\": \"Trump announces 25% tariff on India starting Aug. 1 - AP News\", \"content\": \"President Donald Trump says he\\'ll impose a 25% tariff on goods from India, plus an additional import tax because of India\\'s purchasing of\", \"score\": 0.7089592, \"raw_content\": null}]', name='search_web', id='c27f1eba-99d7-4083-a947-ae43d874235c', tool_call_id='call_inQY3g9wruLB6ZEPPR6rwitm')]}"
      ]
     },
     "execution_count": 21,
     "metadata": {},
     "output_type": "execute_result"
    }
   ],
   "source": [
    "response"
   ]
  },
  {
   "cell_type": "code",
   "execution_count": 22,
   "id": "1aede4c8",
   "metadata": {},
   "outputs": [
    {
     "name": "stdout",
     "output_type": "stream",
     "text": [
      "================================\u001b[1m Human Message \u001b[0m=================================\n",
      "\n",
      "What is the current tariff put by USA on india?\n",
      "==================================\u001b[1m Ai Message \u001b[0m==================================\n",
      "Tool Calls:\n",
      "  search_web (call_inQY3g9wruLB6ZEPPR6rwitm)\n",
      " Call ID: call_inQY3g9wruLB6ZEPPR6rwitm\n",
      "  Args:\n",
      "    user_question: current tariff put by USA on India\n",
      "=================================\u001b[1m Tool Message \u001b[0m=================================\n",
      "Name: search_web\n",
      "\n",
      "[{\"url\": \"https://www.theguardian.com/us-news/2025/jul/30/trump-imposes-tariff-on-india-plus-penalty-over-ties-to-russia\", \"title\": \"Trump imposes 25% tariff on India plus 'penalty' over ties to Russia\", \"content\": \"Donald Trump has announced the US will impose a 25% tariff on goods from India plus an extra “penalty” for the country buying arms and energy\", \"score\": 0.73914057, \"raw_content\": null}, {\"url\": \"https://apnews.com/article/trump-tariffs-russia-india-9e388a55583e7007149819c52f0fd71b\", \"title\": \"Trump announces 25% tariff on India starting Aug. 1 - AP News\", \"content\": \"President Donald Trump says he'll impose a 25% tariff on goods from India, plus an additional import tax because of India's purchasing of\", \"score\": 0.7089592, \"raw_content\": null}]\n"
     ]
    }
   ],
   "source": [
    "for m in response['messages']:\n",
    "    m.pretty_print()"
   ]
  },
  {
   "cell_type": "code",
   "execution_count": 26,
   "id": "82f09611",
   "metadata": {},
   "outputs": [
    {
     "name": "stdout",
     "output_type": "stream",
     "text": [
      "================================\u001b[1m Human Message \u001b[0m=================================\n",
      "\n",
      "What is 5 multiplied by 4\n",
      "==================================\u001b[1m Ai Message \u001b[0m==================================\n",
      "Tool Calls:\n",
      "  multiply_numbers (call_vFia819ekVVLCXdHKpyEHvvA)\n",
      " Call ID: call_vFia819ekVVLCXdHKpyEHvvA\n",
      "  Args:\n",
      "    a: 5\n",
      "    b: 4\n",
      "=================================\u001b[1m Tool Message \u001b[0m=================================\n",
      "Name: multiply_numbers\n",
      "\n",
      "20\n"
     ]
    }
   ],
   "source": [
    "response=app.invoke({\"messages\":\"What is 5 multiplied by 4\"})\n",
    "for m in response['messages']:\n",
    "    m.pretty_print()"
   ]
  },
  {
   "cell_type": "code",
   "execution_count": 28,
   "id": "674ce697",
   "metadata": {},
   "outputs": [
    {
     "name": "stdout",
     "output_type": "stream",
     "text": [
      "================================\u001b[1m Human Message \u001b[0m=================================\n",
      "\n",
      "What is 5 multiplied by 4 and where is taj mahal\n",
      "==================================\u001b[1m Ai Message \u001b[0m==================================\n",
      "Tool Calls:\n",
      "  multiply_numbers (call_oi6uEXgBJp809dSlQe5dClhD)\n",
      " Call ID: call_oi6uEXgBJp809dSlQe5dClhD\n",
      "  Args:\n",
      "    a: 5\n",
      "    b: 4\n",
      "  search_web (call_xO1KHrzZVEV1XlUx23mr7Rua)\n",
      " Call ID: call_xO1KHrzZVEV1XlUx23mr7Rua\n",
      "  Args:\n",
      "    user_question: Where is Taj Mahal located?\n",
      "=================================\u001b[1m Tool Message \u001b[0m=================================\n",
      "Name: multiply_numbers\n",
      "\n",
      "20\n",
      "=================================\u001b[1m Tool Message \u001b[0m=================================\n",
      "Name: search_web\n",
      "\n",
      "[{\"url\": \"https://en.wikipedia.org/wiki/Taj_Mahal\", \"title\": \"Taj Mahal - Wikipedia\", \"content\": \"The Taj Mahal is an ivory-white marble mausoleum on the right bank of the river Yamuna in Agra, Uttar Pradesh, India. It was commissioned in 1631 by the\", \"score\": 0.9057319, \"raw_content\": null}, {\"url\": \"https://www.britannica.com/topic/Taj-Mahal\", \"title\": \"Taj Mahal | Definition, Story, Site, Agra, History, & Facts | Britannica\", \"content\": \"Taj Mahal mausoleum and mosque The Taj Mahal is a mausoleum complex in Agra, western Uttar Pradesh state, northern India. The Taj Mahal is a mausoleum complex that houses the tombs of Mumtaz Mahal (“Chosen One of the Palace”) and her husband, the Mughal emperor Shah Jahān (reigned 1628–58). Taj Mahal, white marble mausoleum complex in Agra, western Uttar Pradesh state, northern India. The Taj Mahal was built by the Mughal emperor Shah Jahan (reigned 1628–58) to immortalize his empress consort Mumtaz Mahal (“Beloved Ornament of the Palace”), who died in childbirth in 1631, having been the emperor’s inseparable companion since their marriage in 1612. Taj Mahal mausoleum and mosque\", \"score\": 0.82186085, \"raw_content\": null}]\n"
     ]
    }
   ],
   "source": [
    "## this is something to note about \n",
    "response=app.invoke({\"messages\":\"What is 5 multiplied by 4 and where is taj mahal\"})\n",
    "for m in response['messages']:\n",
    "    m.pretty_print()"
   ]
  },
  {
   "cell_type": "markdown",
   "id": "fb05d75b",
   "metadata": {},
   "source": [
    "## Part 2: Improving the workflow by passing the tools output back to llm - ReACT agent"
   ]
  },
  {
   "cell_type": "code",
   "execution_count": 29,
   "id": "6c57ea64",
   "metadata": {},
   "outputs": [],
   "source": [
    "# define the workflow\n",
    "from langgraph.graph import StateGraph,START,END\n",
    "from langgraph.prebuilt import ToolNode\n",
    "from langgraph.prebuilt import tools_condition\n",
    "\n",
    "workflow = StateGraph(State)\n",
    "\n",
    "workflow.add_node(\"llm_with_tools\", tool_calling_llm)\n",
    "workflow.add_node(\"tools\" , ToolNode(tools_list))\n",
    "\n",
    "workflow.add_edge(START, \"llm_with_tools\")\n",
    "workflow.add_conditional_edges(\n",
    "    \"llm_with_tools\",\n",
    "    tools_condition\n",
    ")\n",
    "workflow.add_edge(\"tools\", \"llm_with_tools\")\n",
    "\n",
    "app2 = workflow.compile()"
   ]
  },
  {
   "cell_type": "code",
   "execution_count": 30,
   "id": "2eb85231",
   "metadata": {},
   "outputs": [
    {
     "data": {
      "image/png": "[encoded data removed]",
      "text/plain": [
       "<IPython.core.display.Image object>"
      ]
     },
     "metadata": {},
     "output_type": "display_data"
    }
   ],
   "source": [
    "display_graph(app2)"
   ]
  },
  {
   "cell_type": "code",
   "execution_count": 31,
   "id": "7fdf6834",
   "metadata": {},
   "outputs": [
    {
     "name": "stdout",
     "output_type": "stream",
     "text": [
      "================================\u001b[1m Human Message \u001b[0m=================================\n",
      "\n",
      "What is 5 multiplied by 4 and where is taj mahal\n",
      "==================================\u001b[1m Ai Message \u001b[0m==================================\n",
      "Tool Calls:\n",
      "  multiply_numbers (call_ecSQgaSp5oXOpQgAzzkUv5kL)\n",
      " Call ID: call_ecSQgaSp5oXOpQgAzzkUv5kL\n",
      "  Args:\n",
      "    a: 5\n",
      "    b: 4\n",
      "  search_web (call_jPiHmLA3iLVR8u7ebx8d7bC9)\n",
      " Call ID: call_jPiHmLA3iLVR8u7ebx8d7bC9\n",
      "  Args:\n",
      "    user_question: Where is Taj Mahal located?\n",
      "=================================\u001b[1m Tool Message \u001b[0m=================================\n",
      "Name: multiply_numbers\n",
      "\n",
      "20\n",
      "=================================\u001b[1m Tool Message \u001b[0m=================================\n",
      "Name: search_web\n",
      "\n",
      "[{\"url\": \"https://en.wikipedia.org/wiki/Taj_Mahal\", \"title\": \"Taj Mahal - Wikipedia\", \"content\": \"The Taj Mahal is an ivory-white marble mausoleum on the right bank of the river Yamuna in Agra, Uttar Pradesh, India. It was commissioned in 1631 by the\", \"score\": 0.9057319, \"raw_content\": null}, {\"url\": \"https://www.britannica.com/topic/Taj-Mahal\", \"title\": \"Taj Mahal | Definition, Story, Site, Agra, History, & Facts | Britannica\", \"content\": \"Taj Mahal mausoleum and mosque The Taj Mahal is a mausoleum complex in Agra, western Uttar Pradesh state, northern India. The Taj Mahal is a mausoleum complex that houses the tombs of Mumtaz Mahal (“Chosen One of the Palace”) and her husband, the Mughal emperor Shah Jahān (reigned 1628–58). Taj Mahal, white marble mausoleum complex in Agra, western Uttar Pradesh state, northern India. The Taj Mahal was built by the Mughal emperor Shah Jahan (reigned 1628–58) to immortalize his empress consort Mumtaz Mahal (“Beloved Ornament of the Palace”), who died in childbirth in 1631, having been the emperor’s inseparable companion since their marriage in 1612. Taj Mahal mausoleum and mosque\", \"score\": 0.82186085, \"raw_content\": null}]\n",
      "==================================\u001b[1m Ai Message \u001b[0m==================================\n",
      "\n",
      "5 multiplied by 4 is 20.\n",
      "\n",
      "The Taj Mahal is an ivory-white marble mausoleum located on the right bank of the river Yamuna in Agra, Uttar Pradesh, India.\n"
     ]
    }
   ],
   "source": [
    "response=app2.invoke({\"messages\":\"What is 5 multiplied by 4 and where is taj mahal\"})\n",
    "for m in response['messages']:\n",
    "    m.pretty_print()"
   ]
  },
  {
   "cell_type": "code",
   "execution_count": 33,
   "id": "bfbf4e09",
   "metadata": {},
   "outputs": [
    {
     "data": {
      "text/plain": [
       "{'messages': [HumanMessage(content='What is 5 multiplied by 4 and where is taj mahal', additional_kwargs={}, response_metadata={}, id='84afea2a-6c61-44cb-9cb3-597e7ee02f46'),\n",
       "  AIMessage(content='', additional_kwargs={'tool_calls': [{'id': 'call_qHSwGbiCAvmfJM7Knz5zeyh9', 'function': {'arguments': '{\"a\": 5, \"b\": 4}', 'name': 'multiply_numbers'}, 'type': 'function'}, {'id': 'call_FF2EBWgtsYrqnUrsq8GvJCxv', 'function': {'arguments': '{\"user_question\": \"Where is Taj Mahal located?\"}', 'name': 'search_web'}, 'type': 'function'}], 'refusal': None}, response_metadata={'token_usage': {'completion_tokens': 54, 'prompt_tokens': 352, 'total_tokens': 406, 'completion_tokens_details': {'accepted_prediction_tokens': 0, 'audio_tokens': 0, 'reasoning_tokens': 0, 'rejected_prediction_tokens': 0}, 'prompt_tokens_details': {'audio_tokens': 0, 'cached_tokens': 0}}, 'model_name': 'gpt-4.1-mini-2025-04-14', 'system_fingerprint': 'fp_658b958c37', 'id': 'chatcmpl-Bz3gff69JbdDtjiBNrksVO4goBzBY', 'service_tier': 'default', 'finish_reason': 'tool_calls', 'logprobs': None}, id='run--ae9e5da2-b95d-4829-aec9-be1bc1be010f-0', tool_calls=[{'name': 'multiply_numbers', 'args': {'a': 5, 'b': 4}, 'id': 'call_qHSwGbiCAvmfJM7Knz5zeyh9', 'type': 'tool_call'}, {'name': 'search_web', 'args': {'user_question': 'Where is Taj Mahal located?'}, 'id': 'call_FF2EBWgtsYrqnUrsq8GvJCxv', 'type': 'tool_call'}], usage_metadata={'input_tokens': 352, 'output_tokens': 54, 'total_tokens': 406, 'input_token_details': {'audio': 0, 'cache_read': 0}, 'output_token_details': {'audio': 0, 'reasoning': 0}}),\n",
       "  ToolMessage(content='20', name='multiply_numbers', id='b5fbf44f-5ca0-4f66-9e10-0f6711a913e3', tool_call_id='call_qHSwGbiCAvmfJM7Knz5zeyh9'),\n",
       "  ToolMessage(content='[{\"url\": \"https://en.wikipedia.org/wiki/Taj_Mahal\", \"title\": \"Taj Mahal - Wikipedia\", \"content\": \"The Taj Mahal is an ivory-white marble mausoleum on the right bank of the river Yamuna in Agra, Uttar Pradesh, India. It was commissioned in 1631 by the\", \"score\": 0.9057319, \"raw_content\": null}, {\"url\": \"https://www.britannica.com/topic/Taj-Mahal\", \"title\": \"Taj Mahal | Definition, Story, Site, Agra, History, & Facts | Britannica\", \"content\": \"Taj Mahal mausoleum and mosque The Taj Mahal is a mausoleum complex in Agra, western Uttar Pradesh state, northern India. The Taj Mahal is a mausoleum complex that houses the tombs of Mumtaz Mahal (“Chosen One of the Palace”) and her husband, the Mughal emperor Shah Jahān (reigned 1628–58). Taj Mahal, white marble mausoleum complex in Agra, western Uttar Pradesh state, northern India. The Taj Mahal was built by the Mughal emperor Shah Jahan (reigned 1628–58) to immortalize his empress consort Mumtaz Mahal (“Beloved Ornament of the Palace”), who died in childbirth in 1631, having been the emperor’s inseparable companion since their marriage in 1612. Taj Mahal mausoleum and mosque\", \"score\": 0.82186085, \"raw_content\": null}]', name='search_web', id='fd4418b1-24ee-4750-bc6b-dc4927b90e03', tool_call_id='call_FF2EBWgtsYrqnUrsq8GvJCxv'),\n",
       "  AIMessage(content='5 multiplied by 4 is 20.\\n\\nThe Taj Mahal is an ivory-white marble mausoleum located on the right bank of the river Yamuna in Agra, Uttar Pradesh, India.', additional_kwargs={'refusal': None}, response_metadata={'token_usage': {'completion_tokens': 39, 'prompt_tokens': 751, 'total_tokens': 790, 'completion_tokens_details': {'accepted_prediction_tokens': 0, 'audio_tokens': 0, 'reasoning_tokens': 0, 'rejected_prediction_tokens': 0}, 'prompt_tokens_details': {'audio_tokens': 0, 'cached_tokens': 0}}, 'model_name': 'gpt-4.1-mini-2025-04-14', 'system_fingerprint': 'fp_6f2eabb9a5', 'id': 'chatcmpl-Bz3giHlgvfBNdaoLNbhMlJg3DQM4Z', 'service_tier': 'default', 'finish_reason': 'stop', 'logprobs': None}, id='run--ee8fc6a7-28e1-4dfd-8a5b-c0022f416b14-0', usage_metadata={'input_tokens': 751, 'output_tokens': 39, 'total_tokens': 790, 'input_token_details': {'audio': 0, 'cache_read': 0}, 'output_token_details': {'audio': 0, 'reasoning': 0}})]}"
      ]
     },
     "execution_count": 33,
     "metadata": {},
     "output_type": "execute_result"
    }
   ],
   "source": [
    "app2.invoke({\"messages\":\"What is 5 multiplied by 4 and where is taj mahal\"})"
   ]
  },
  {
   "cell_type": "code",
   "execution_count": 34,
   "id": "28d27b7d",
   "metadata": {},
   "outputs": [
    {
     "data": {
      "text/plain": [
       "{'messages': [HumanMessage(content='What is 5 multiplied by 4 and add 15 to it', additional_kwargs={}, response_metadata={}, id='705bb041-8615-4a47-8663-baae9f107c9d'),\n",
       "  AIMessage(content='', additional_kwargs={'tool_calls': [{'id': 'call_e8LMEuXiusa9uzpfEpNDj1Oa', 'function': {'arguments': '{\"a\": 5, \"b\": 4}', 'name': 'multiply_numbers'}, 'type': 'function'}, {'id': 'call_KlfIWIh1cKPqqfOWPfFpK2Uw', 'function': {'arguments': '{\"a\": 0, \"b\": 15}', 'name': 'add_numbers'}, 'type': 'function'}], 'refusal': None}, response_metadata={'token_usage': {'completion_tokens': 52, 'prompt_tokens': 353, 'total_tokens': 405, 'completion_tokens_details': {'accepted_prediction_tokens': 0, 'audio_tokens': 0, 'reasoning_tokens': 0, 'rejected_prediction_tokens': 0}, 'prompt_tokens_details': {'audio_tokens': 0, 'cached_tokens': 0}}, 'model_name': 'gpt-4.1-mini-2025-04-14', 'system_fingerprint': 'fp_6f2eabb9a5', 'id': 'chatcmpl-Bz50fA1rljcCNr9BUbdbsCxjsCIFx', 'service_tier': 'default', 'finish_reason': 'tool_calls', 'logprobs': None}, id='run--fb1434c2-8c80-4334-8f03-ec06c3f3198f-0', tool_calls=[{'name': 'multiply_numbers', 'args': {'a': 5, 'b': 4}, 'id': 'call_e8LMEuXiusa9uzpfEpNDj1Oa', 'type': 'tool_call'}, {'name': 'add_numbers', 'args': {'a': 0, 'b': 15}, 'id': 'call_KlfIWIh1cKPqqfOWPfFpK2Uw', 'type': 'tool_call'}], usage_metadata={'input_tokens': 353, 'output_tokens': 52, 'total_tokens': 405, 'input_token_details': {'audio': 0, 'cache_read': 0}, 'output_token_details': {'audio': 0, 'reasoning': 0}}),\n",
       "  ToolMessage(content='20', name='multiply_numbers', id='e804df75-e5ee-419b-af2f-819ad23594c3', tool_call_id='call_e8LMEuXiusa9uzpfEpNDj1Oa'),\n",
       "  ToolMessage(content='15', name='add_numbers', id='d612ed54-2c65-4d34-80d1-261e9f8656f8', tool_call_id='call_KlfIWIh1cKPqqfOWPfFpK2Uw'),\n",
       "  AIMessage(content='', additional_kwargs={'tool_calls': [{'id': 'call_ZJCpTzlSKzIEKXs854z4v5lD', 'function': {'arguments': '{\"a\":20,\"b\":15}', 'name': 'add_numbers'}, 'type': 'function'}], 'refusal': None}, response_metadata={'token_usage': {'completion_tokens': 18, 'prompt_tokens': 421, 'total_tokens': 439, 'completion_tokens_details': {'accepted_prediction_tokens': 0, 'audio_tokens': 0, 'reasoning_tokens': 0, 'rejected_prediction_tokens': 0}, 'prompt_tokens_details': {'audio_tokens': 0, 'cached_tokens': 0}}, 'model_name': 'gpt-4.1-mini-2025-04-14', 'system_fingerprint': 'fp_6f2eabb9a5', 'id': 'chatcmpl-Bz50giXHbeonyv3gxvect279KEmUC', 'service_tier': 'default', 'finish_reason': 'tool_calls', 'logprobs': None}, id='run--c5cda2f3-29d1-4502-bd42-62610711f25a-0', tool_calls=[{'name': 'add_numbers', 'args': {'a': 20, 'b': 15}, 'id': 'call_ZJCpTzlSKzIEKXs854z4v5lD', 'type': 'tool_call'}], usage_metadata={'input_tokens': 421, 'output_tokens': 18, 'total_tokens': 439, 'input_token_details': {'audio': 0, 'cache_read': 0}, 'output_token_details': {'audio': 0, 'reasoning': 0}}),\n",
       "  ToolMessage(content='35', name='add_numbers', id='0f018056-2a65-4866-b2f6-1ac53bc27a33', tool_call_id='call_ZJCpTzlSKzIEKXs854z4v5lD'),\n",
       "  AIMessage(content='5 multiplied by 4 is 20, and when you add 15 to it, the result is 35.', additional_kwargs={'refusal': None}, response_metadata={'token_usage': {'completion_tokens': 25, 'prompt_tokens': 448, 'total_tokens': 473, 'completion_tokens_details': {'accepted_prediction_tokens': 0, 'audio_tokens': 0, 'reasoning_tokens': 0, 'rejected_prediction_tokens': 0}, 'prompt_tokens_details': {'audio_tokens': 0, 'cached_tokens': 0}}, 'model_name': 'gpt-4.1-mini-2025-04-14', 'system_fingerprint': 'fp_6f2eabb9a5', 'id': 'chatcmpl-Bz50hJcUZcDsrX5YQoIMsevc1B72B', 'service_tier': 'default', 'finish_reason': 'stop', 'logprobs': None}, id='run--d0a2acc9-0152-4be9-b701-e548f4f492ec-0', usage_metadata={'input_tokens': 448, 'output_tokens': 25, 'total_tokens': 473, 'input_token_details': {'audio': 0, 'cache_read': 0}, 'output_token_details': {'audio': 0, 'reasoning': 0}})]}"
      ]
     },
     "execution_count": 34,
     "metadata": {},
     "output_type": "execute_result"
    }
   ],
   "source": [
    "app2.invoke({\"messages\":\"What is 5 multiplied by 4 and add 15 to it\"})"
   ]
  },
  {
   "cell_type": "markdown",
   "id": "cbbb3d60",
   "metadata": {},
   "source": [
    "## Inbuilt ReACT agent by langgraph"
   ]
  },
  {
   "cell_type": "code",
   "execution_count": 35,
   "id": "4078633e",
   "metadata": {},
   "outputs": [],
   "source": [
    "from langgraph.prebuilt import create_react_agent"
   ]
  },
  {
   "cell_type": "code",
   "execution_count": 36,
   "id": "165812b6",
   "metadata": {},
   "outputs": [],
   "source": [
    "react_agent = create_react_agent(\n",
    "    model=model,\n",
    "    tools=tools_list\n",
    ")\n"
   ]
  },
  {
   "cell_type": "code",
   "execution_count": 37,
   "id": "b67da8d9",
   "metadata": {},
   "outputs": [
    {
     "data": {
      "text/plain": [
       "{'messages': [HumanMessage(content='What is 5 multiplied by 4 and where is taj mahal', additional_kwargs={}, response_metadata={}, id='8a27adbb-0c58-4417-a49b-68f836714c57'),\n",
       "  AIMessage(content='', additional_kwargs={'tool_calls': [{'id': 'call_H39tsRzH9VAEPvdtcEG4u6Hx', 'function': {'arguments': '{\"a\": 5, \"b\": 4}', 'name': 'multiply_numbers'}, 'type': 'function'}, {'id': 'call_02ZOIaqz8XxyEwqACiueBpzN', 'function': {'arguments': '{\"user_question\": \"Where is Taj Mahal located?\"}', 'name': 'search_web'}, 'type': 'function'}], 'refusal': None}, response_metadata={'token_usage': {'completion_tokens': 54, 'prompt_tokens': 352, 'total_tokens': 406, 'completion_tokens_details': {'accepted_prediction_tokens': 0, 'audio_tokens': 0, 'reasoning_tokens': 0, 'rejected_prediction_tokens': 0}, 'prompt_tokens_details': {'audio_tokens': 0, 'cached_tokens': 0}}, 'model_name': 'gpt-4.1-mini-2025-04-14', 'system_fingerprint': 'fp_658b958c37', 'id': 'chatcmpl-Bz5838q4ywKIIlF0RkvHKNil0CBMJ', 'service_tier': 'default', 'finish_reason': 'tool_calls', 'logprobs': None}, id='run--efe19a45-d23e-4c25-940e-18ecce1b5fca-0', tool_calls=[{'name': 'multiply_numbers', 'args': {'a': 5, 'b': 4}, 'id': 'call_H39tsRzH9VAEPvdtcEG4u6Hx', 'type': 'tool_call'}, {'name': 'search_web', 'args': {'user_question': 'Where is Taj Mahal located?'}, 'id': 'call_02ZOIaqz8XxyEwqACiueBpzN', 'type': 'tool_call'}], usage_metadata={'input_tokens': 352, 'output_tokens': 54, 'total_tokens': 406, 'input_token_details': {'audio': 0, 'cache_read': 0}, 'output_token_details': {'audio': 0, 'reasoning': 0}}),\n",
       "  ToolMessage(content='20', name='multiply_numbers', id='1e607462-8207-4ba2-bb19-47015a964afc', tool_call_id='call_H39tsRzH9VAEPvdtcEG4u6Hx'),\n",
       "  ToolMessage(content='[{\"url\": \"https://en.wikipedia.org/wiki/Taj_Mahal\", \"title\": \"Taj Mahal - Wikipedia\", \"content\": \"The Taj Mahal is an ivory-white marble mausoleum on the right bank of the river Yamuna in Agra, Uttar Pradesh, India. It was commissioned in 1631 by the\", \"score\": 0.9057319, \"raw_content\": null}, {\"url\": \"https://www.britannica.com/topic/Taj-Mahal\", \"title\": \"Taj Mahal | Definition, Story, Site, Agra, History, & Facts | Britannica\", \"content\": \"Taj Mahal mausoleum and mosque The Taj Mahal is a mausoleum complex in Agra, western Uttar Pradesh state, northern India. The Taj Mahal is a mausoleum complex that houses the tombs of Mumtaz Mahal (“Chosen One of the Palace”) and her husband, the Mughal emperor Shah Jahān (reigned 1628–58). Taj Mahal, white marble mausoleum complex in Agra, western Uttar Pradesh state, northern India. The Taj Mahal was built by the Mughal emperor Shah Jahan (reigned 1628–58) to immortalize his empress consort Mumtaz Mahal (“Beloved Ornament of the Palace”), who died in childbirth in 1631, having been the emperor’s inseparable companion since their marriage in 1612. Taj Mahal mausoleum and mosque\", \"score\": 0.82186085, \"raw_content\": null}]', name='search_web', id='e7151a59-2b73-4615-9f37-810eed43e957', tool_call_id='call_02ZOIaqz8XxyEwqACiueBpzN'),\n",
       "  AIMessage(content='5 multiplied by 4 is 20.\\n\\nThe Taj Mahal is an ivory-white marble mausoleum located on the right bank of the river Yamuna in Agra, Uttar Pradesh, India.', additional_kwargs={'refusal': None}, response_metadata={'token_usage': {'completion_tokens': 39, 'prompt_tokens': 751, 'total_tokens': 790, 'completion_tokens_details': {'accepted_prediction_tokens': 0, 'audio_tokens': 0, 'reasoning_tokens': 0, 'rejected_prediction_tokens': 0}, 'prompt_tokens_details': {'audio_tokens': 0, 'cached_tokens': 0}}, 'model_name': 'gpt-4.1-mini-2025-04-14', 'system_fingerprint': 'fp_6f2eabb9a5', 'id': 'chatcmpl-Bz586w5UII2bj20ryGAV6rZGpIFlv', 'service_tier': 'default', 'finish_reason': 'stop', 'logprobs': None}, id='run--b15172bb-c200-45fd-9a4c-1a5817caf89a-0', usage_metadata={'input_tokens': 751, 'output_tokens': 39, 'total_tokens': 790, 'input_token_details': {'audio': 0, 'cache_read': 0}, 'output_token_details': {'audio': 0, 'reasoning': 0}})]}"
      ]
     },
     "execution_count": 37,
     "metadata": {},
     "output_type": "execute_result"
    }
   ],
   "source": [
    "react_agent.invoke({\"messages\":\"What is 5 multiplied by 4 and where is taj mahal\"})"
   ]
  },
  {
   "cell_type": "code",
   "execution_count": null,
   "id": "0317aec0",
   "metadata": {},
   "outputs": [],
   "source": []
  }
 ],
 "metadata": {
  "kernelspec": {
   "display_name": ".venv",
   "language": "python",
   "name": "python3"
  },
  "language_info": {
   "codemirror_mode": {
    "name": "ipython",
    "version": 3
   },
   "file_extension": ".py",
   "mimetype": "text/x-python",
   "name": "python",
   "nbconvert_exporter": "python",
   "pygments_lexer": "ipython3",
   "version": "3.13.3"
  }
 },
 "nbformat": 4,
 "nbformat_minor": 5
}
